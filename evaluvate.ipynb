{
 "cells": [
  {
   "cell_type": "markdown",
   "metadata": {},
   "source": [
    "## Code to evaluate PSNR and SSIM values between predicted and ground data"
   ]
  },
  {
   "cell_type": "markdown",
   "metadata": {},
   "source": [
    "### Instructions\n",
    "Provide the directory paths for predicted images and ground truth images. The script will compute PSNR and SSIM values for each image pair and output the average values."
   ]
  },
  {
   "cell_type": "code",
   "execution_count": 1,
   "metadata": {},
   "outputs": [
    {
     "name": "stdout",
     "output_type": "stream",
     "text": [
      "Collecting cv\n",
      "  Downloading cv-1.0.0-py3-none-any.whl.metadata (3.6 kB)\n",
      "Requirement already satisfied: numpy in /Library/Frameworks/Python.framework/Versions/3.8/lib/python3.8/site-packages (1.23.5)\n",
      "Requirement already satisfied: scikit-learn in /Library/Frameworks/Python.framework/Versions/3.8/lib/python3.8/site-packages (1.3.2)\n",
      "Requirement already satisfied: scipy>=1.5.0 in /Library/Frameworks/Python.framework/Versions/3.8/lib/python3.8/site-packages (from scikit-learn) (1.10.1)\n",
      "Requirement already satisfied: joblib>=1.1.1 in /Library/Frameworks/Python.framework/Versions/3.8/lib/python3.8/site-packages (from scikit-learn) (1.4.2)\n",
      "Requirement already satisfied: threadpoolctl>=2.0.0 in /Library/Frameworks/Python.framework/Versions/3.8/lib/python3.8/site-packages (from scikit-learn) (3.5.0)\n",
      "Downloading cv-1.0.0-py3-none-any.whl (7.3 kB)\n",
      "Installing collected packages: cv\n",
      "Successfully installed cv-1.0.0\n",
      "Note: you may need to restart the kernel to use updated packages.\n"
     ]
    }
   ],
   "source": [
    "%pip install cv numpy scikit-learn "
   ]
  },
  {
   "cell_type": "code",
   "execution_count": 23,
   "metadata": {},
   "outputs": [],
   "source": [
    "import os\n",
    "import cv2\n",
    "import numpy as np\n",
    "from skimage.metrics import peak_signal_noise_ratio as psnr\n",
    "from skimage.metrics import structural_similarity as ssim\n",
    "\n",
    "# Function to compute PSNR and SSIM for two images\n",
    "def compute_metrics(predicted, ground_truth):\n",
    "    assert predicted.shape == ground_truth.shape, \"Predicted and ground truth images must have the same shape\"\n",
    "    # Compute PSNR\n",
    "    psnr_value = psnr(ground_truth, predicted, data_range=ground_truth.max() - ground_truth.min())\n",
    "    \n",
    "    # Compute SSIM\n",
    "    ssim_value = ssim(ground_truth, predicted, data_range=ground_truth.max() - ground_truth.min(), channel_axis=-1)\n",
    "    \n",
    "    return psnr_value, ssim_value"
   ]
  },
  {
   "cell_type": "code",
   "execution_count": 24,
   "metadata": {},
   "outputs": [],
   "source": [
    "# Function to evaluate metrics for all images in the directories\n",
    "def evaluate_metrics(pred_dir, gt_dir):\n",
    "    pred_files = sorted(os.listdir(pred_dir))\n",
    "    gt_files = sorted(os.listdir(gt_dir))\n",
    "    \n",
    "    psnr_values = []\n",
    "    ssim_values = []\n",
    "    \n",
    "    for pred_file, gt_file in zip(pred_files, gt_files):\n",
    "        pred_path = os.path.join(pred_dir, pred_file)\n",
    "        gt_path = os.path.join(gt_dir, gt_file)\n",
    "        \n",
    "        predicted = cv2.imread(pred_path)\n",
    "        ground_truth = cv2.imread(gt_path)\n",
    "        \n",
    "        if predicted is None or ground_truth is None:\n",
    "            print(f\"Error reading files: {pred_file}, {gt_file}\")\n",
    "            continue\n",
    "        \n",
    "        psnr_value, ssim_value = compute_metrics(predicted, ground_truth)\n",
    "        psnr_values.append(psnr_value)\n",
    "        ssim_values.append(ssim_value)\n",
    "    \n",
    "    avg_psnr = np.mean(psnr_values)\n",
    "    avg_ssim = np.mean(ssim_values)\n",
    "    \n",
    "    return avg_psnr, avg_ssim"
   ]
  },
  {
   "cell_type": "markdown",
   "metadata": {},
   "source": [
    "## Input the path for predicted and ground truth data"
   ]
  },
  {
   "cell_type": "code",
   "execution_count": 25,
   "metadata": {},
   "outputs": [
    {
     "name": "stderr",
     "output_type": "stream",
     "text": [
      "/Library/Frameworks/Python.framework/Versions/3.8/lib/python3.8/site-packages/skimage/metrics/simple_metrics.py:163: RuntimeWarning: divide by zero encountered in double_scalars\n",
      "  return 10 * np.log10((data_range ** 2) / err)\n"
     ]
    },
    {
     "name": "stdout",
     "output_type": "stream",
     "text": [
      "Average PSNR: inf\n",
      "Average SSIM: 1.0\n"
     ]
    }
   ],
   "source": [
    "# Example usage\n",
    "pred_dir = \"./Brain_CT\"\n",
    "gt_dir = \"./Brain_CT copy\"\n",
    "\n",
    "avg_psnr, avg_ssim = evaluate_metrics(pred_dir, gt_dir)\n",
    "print(f\"Average PSNR: {avg_psnr}\")\n",
    "print(f\"Average SSIM: {avg_ssim}\")"
   ]
  }
 ],
 "metadata": {
  "kernelspec": {
   "display_name": "Python 3",
   "language": "python",
   "name": "python3"
  },
  "language_info": {
   "codemirror_mode": {
    "name": "ipython",
    "version": 3
   },
   "file_extension": ".py",
   "mimetype": "text/x-python",
   "name": "python",
   "nbconvert_exporter": "python",
   "pygments_lexer": "ipython3",
   "version": "3.8.0"
  }
 },
 "nbformat": 4,
 "nbformat_minor": 2
}
